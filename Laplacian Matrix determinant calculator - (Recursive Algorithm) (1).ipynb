{
 "cells": [
  {
   "cell_type": "markdown",
   "metadata": {},
   "source": [
    "## Recursive Algorithm for calculating Matrix Determinants using Laplacian Decomposition\n",
    "\n"
   ]
  },
  {
   "cell_type": "code",
   "execution_count": 3,
   "metadata": {},
   "outputs": [],
   "source": [
    "from numpy import array, shape, delete, zeros\n",
    "import time"
   ]
  },
  {
   "cell_type": "code",
   "execution_count": 4,
   "metadata": {},
   "outputs": [
    {
     "name": "stdout",
     "output_type": "stream",
     "text": [
      "determinant of matrix A: 4\n",
      "\n",
      "determinant of matrix B: 49\n"
     ]
    }
   ],
   "source": [
    "def determinant(A):\n",
    "    if shape(A) == (2,2):\n",
    "        return A[0,0]*A[1,1] - A[0,1]*A[1,0]\n",
    "    else:\n",
    "        det = 0\n",
    "        for j in range(len(A[0])):\n",
    "            minor = delete(A, j, axis=1)\n",
    "            minor = delete(minor, 0, axis=0)\n",
    "            \n",
    "            det += determinant(minor)*A[0,j]*(-1)**j\n",
    "        return det\n",
    "\n",
    "    \n",
    "A = array([[1,1],\n",
    "           [3,7]])\n",
    "\n",
    "B = array([[1,2,3,4],\n",
    "           [3,3,3,4],\n",
    "           [4,2,1,4],\n",
    "           [3,2,5,1]])\n",
    "\n",
    "\n",
    "print(f'determinant of matrix A: {determinant(A)}\\n\\ndeterminant of matrix B: {determinant(B)}')"
   ]
  },
  {
   "cell_type": "markdown",
   "metadata": {},
   "source": [
    "### Time Complexity"
   ]
  },
  {
   "cell_type": "code",
   "execution_count": 5,
   "metadata": {},
   "outputs": [
    {
     "name": "stdout",
     "output_type": "stream",
     "text": [
      "{2: [0.0], 3: [0.0], 4: [0.0], 5: [0.002000093460083008], 6: [0.009015560150146484], 7: [0.05305647850036621], 8: [0.3650031089782715], 9: [3.428091287612915], 10: [35.337088108062744], 11: [369.11073446273804]}\n"
     ]
    }
   ],
   "source": [
    "orders_times = {}\n",
    "\n",
    "for i in range(2, 12):\n",
    "    n = i\n",
    "    nn = zeros(n**2).reshape(n, n)\n",
    "    start = time.time()\n",
    "    determinant(nn)\n",
    "    end = time.time()\n",
    "    orders_times[n] = [end-start]\n",
    "\n",
    "print(orders_times)"
   ]
  },
  {
   "cell_type": "code",
   "execution_count": 7,
   "metadata": {},
   "outputs": [
    {
     "data": {
      "image/png": "[encoded data removed]",
      "text/plain": [
       "<Figure size 432x288 with 1 Axes>"
      ]
     },
     "metadata": {
      "needs_background": "light"
     },
     "output_type": "display_data"
    }
   ],
   "source": [
    "from matplotlib.pyplot import plot, show \n",
    "\n",
    "plot(*zip(*sorted(orders_times.items())))\n",
    "show()"
   ]
  }
 ],
 "metadata": {
  "kernelspec": {
   "display_name": "Python 3",
   "language": "python",
   "name": "python3"
  },
  "language_info": {
   "codemirror_mode": {
    "name": "ipython",
    "version": 3
   },
   "file_extension": ".py",
   "mimetype": "text/x-python",
   "name": "python",
   "nbconvert_exporter": "python",
   "pygments_lexer": "ipython3",
   "version": "3.7.0"
  }
 },
 "nbformat": 4,
 "nbformat_minor": 2
}
